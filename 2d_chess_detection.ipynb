{
  "cells": [
    {
      "cell_type": "code",
      "execution_count": null,
      "metadata": {
        "collapsed": true,
        "id": "TCZflWeOmsAo"
      },
      "outputs": [],
      "source": [
        "# !pip install ultralytics aiofiles xxhash\n",
        "from google.colab import drive\n",
        "drive.mount('/content/drive')"
      ]
    },
    {
      "cell_type": "markdown",
      "source": [
        "Generate datasets"
      ],
      "metadata": {
        "id": "nuV0Yu8nqhyE"
      }
    },
    {
      "cell_type": "code",
      "source": [
        "!git clone https://github.com/Zai-Kun/2d-chess-pieces-detection\n",
        "%cd 2d-chess-pieces-detection/assets\n",
        "!python3 random_images_downloader2.py\n",
        "%cd ..\n",
        "!python3 genrate_datasets.py"
      ],
      "metadata": {
        "id": "8XgHIoYfonq1"
      },
      "execution_count": null,
      "outputs": []
    },
    {
      "cell_type": "code",
      "source": [
        "!ls datasets/images/train -1 | wc -l\n",
        "!ls datasets/images/val -1 | wc -l\n",
        "\n",
        "!ls datasets/labels/train -1 | wc -l\n",
        "!ls datasets/labels/val -1 | wc -l"
      ],
      "metadata": {
        "id": "r9DriAQPrv7f"
      },
      "execution_count": null,
      "outputs": []
    },
    {
      "cell_type": "code",
      "source": [
        "!mkdir -p /content/drive/MyDrive/2d-chess_detection\n",
        "!mv /content/2d-chess-pieces-detection/datasets /content/drive/MyDrive/2d-chess_detection\n",
        "!mv /content/2d-chess-pieces-detection/chess_detection.yaml /content/drive/MyDrive/2d-chess_detection\n",
        "%cd /content/drive/MyDrive/2d-chess_detection"
      ],
      "metadata": {
        "id": "M1pjHjhIMT5w"
      },
      "execution_count": null,
      "outputs": []
    },
    {
      "cell_type": "markdown",
      "source": [
        "Training"
      ],
      "metadata": {
        "id": "qRbum52-rfbS"
      }
    },
    {
      "cell_type": "code",
      "execution_count": null,
      "metadata": {
        "id": "kDWUf2Hrm7J_"
      },
      "outputs": [],
      "source": [
        "!yolo detect train data=chess_detection.yaml model=yolo11n.yaml epochs=20 imgsz=640"
      ]
    },
    {
      "cell_type": "code",
      "source": [
        "!yolo train data=chess_detection.yaml model=/content/drive/MyDrive/2d-chess_detection/runs/detect/train4/weights/best.pt epochs=15 imgsz=640"
      ],
      "metadata": {
        "id": "hpHcJAK8Do2j"
      },
      "execution_count": null,
      "outputs": []
    },
    {
      "cell_type": "code",
      "source": [
        "!mv /content/2d-chess-pieces-detection/drive/MyDrive/2d-chess-detection /content/drive/MyDrive"
      ],
      "metadata": {
        "id": "nTz50gVgBonD"
      },
      "execution_count": null,
      "outputs": []
    },
    {
      "cell_type": "code",
      "execution_count": null,
      "metadata": {
        "id": "HO_O38oiz2R-"
      },
      "outputs": [],
      "source": [
        "!yolo predict model=best.pt source=\"screenshot.png\" imgsz=640"
      ]
    },
    {
      "cell_type": "code",
      "source": [
        "!yolo export model=/content/runs/detect/train/weights/best.pt format=onnx nms=True"
      ],
      "metadata": {
        "id": "BW5tLnTSoulf"
      },
      "execution_count": null,
      "outputs": []
    },
    {
      "cell_type": "code",
      "execution_count": null,
      "metadata": {
        "id": "feM0HL1s2UXg"
      },
      "outputs": [],
      "source": [
        "!rm -rf datasets"
      ]
    },
    {
      "cell_type": "code",
      "execution_count": null,
      "metadata": {
        "id": "PF5Y3wg29SDU"
      },
      "outputs": [],
      "source": [
        "!rm -rf runs/detect/predict*"
      ]
    }
  ],
  "metadata": {
    "colab": {
      "provenance": [],
      "gpuType": "T4"
    },
    "kernelspec": {
      "display_name": "Python 3",
      "name": "python3"
    },
    "language_info": {
      "name": "python"
    },
    "accelerator": "GPU"
  },
  "nbformat": 4,
  "nbformat_minor": 0
}