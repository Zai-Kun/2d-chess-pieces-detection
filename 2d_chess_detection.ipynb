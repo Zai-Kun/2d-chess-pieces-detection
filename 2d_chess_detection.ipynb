{
  "cells": [
    {
      "cell_type": "code",
      "execution_count": null,
      "metadata": {
        "collapsed": true,
        "id": "TCZflWeOmsAo"
      },
      "outputs": [],
      "source": [
        "!pip install ultralytics aiofiles xxhash\n",
        "from google.colab import drive\n",
        "drive.mount('/content/drive')"
      ]
    },
    {
      "cell_type": "markdown",
      "source": [
        "Generate datasets"
      ],
      "metadata": {
        "id": "nuV0Yu8nqhyE"
      }
    },
    {
      "cell_type": "code",
      "source": [
        "!git clone https://github.com/Zai-Kun/2d-chess-pieces-detection\n",
        "%cd 2d-chess-pieces-detection/assets\n",
        "!python3 random_images_downloader2.py\n",
        "%cd ..\n",
        "!python3 genrate_datasets.py"
      ],
      "metadata": {
        "id": "8XgHIoYfonq1"
      },
      "execution_count": null,
      "outputs": []
    },
    {
      "cell_type": "code",
      "source": [
        "!ls datasets/images/train -1 | wc -l\n",
        "!ls datasets/images/val -1 | wc -l\n",
        "\n",
        "!ls datasets/labels/train -1 | wc -l\n",
        "!ls datasets/labels/val -1 | wc -l\n",
        "\n",
        "# they all should say around 22060 with the default settings"
      ],
      "metadata": {
        "id": "r9DriAQPrv7f"
      },
      "execution_count": null,
      "outputs": []
    },
    {
      "cell_type": "markdown",
      "source": [
        "Training"
      ],
      "metadata": {
        "id": "qRbum52-rfbS"
      }
    },
    {
      "cell_type": "code",
      "execution_count": null,
      "metadata": {
        "id": "kDWUf2Hrm7J_"
      },
      "outputs": [],
      "source": [
        "!mkdir -p drive/MyDrive/2d-chess-detection\n",
        "!yolo detect train data=chess_detection.yaml model=yolo11n.yaml epochs=50 imgsz=640 project=drive/MyDrive/2d-chess-detection"
      ]
    },
    {
      "cell_type": "code",
      "execution_count": null,
      "metadata": {
        "id": "HO_O38oiz2R-"
      },
      "outputs": [],
      "source": [
        "!yolo predict model=best.pt source=\"screenshot.png\" imgsz=640"
      ]
    },
    {
      "cell_type": "code",
      "source": [
        "!yolo export model=/content/runs/detect/train/weights/best.pt format=onnx nms=True"
      ],
      "metadata": {
        "id": "BW5tLnTSoulf"
      },
      "execution_count": null,
      "outputs": []
    },
    {
      "cell_type": "code",
      "execution_count": null,
      "metadata": {
        "id": "feM0HL1s2UXg"
      },
      "outputs": [],
      "source": [
        "!rm -rf datasets"
      ]
    },
    {
      "cell_type": "code",
      "execution_count": null,
      "metadata": {
        "id": "PF5Y3wg29SDU"
      },
      "outputs": [],
      "source": [
        "!rm -rf runs/detect/predict*"
      ]
    }
  ],
  "metadata": {
    "colab": {
      "provenance": [],
      "gpuType": "T4"
    },
    "kernelspec": {
      "display_name": "Python 3",
      "name": "python3"
    },
    "language_info": {
      "name": "python"
    },
    "accelerator": "GPU"
  },
  "nbformat": 4,
  "nbformat_minor": 0
}